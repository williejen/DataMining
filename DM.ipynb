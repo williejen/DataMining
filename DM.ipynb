{
 "cells": [
  {
   "cell_type": "code",
   "execution_count": 54,
   "metadata": {
    "pycharm": {
     "is_executing": false
    }
   },
   "outputs": [],
   "source": [
    "## Import Library ##\n",
    "import pandas as pd\n",
    "import numpy as np\n",
    "import matplotlib.pyplot as plt\n",
    "import seaborn as sns\n",
    "\n",
    "## For Data Encoding ##\n",
    "from sklearn.preprocessing import MinMaxScaler\n",
    "from sklearn.preprocessing import LabelEncoder\n",
    "\n",
    "## For Model Evaluation ##\n",
    "from sklearn.model_selection import KFold\n",
    "\n",
    "## Machine Learning Model ##\n",
    "from sklearn.ensemble import RandomForestClassifier\n",
    "from sklearn.tree import DecisionTreeClassifier\n",
    "from sklearn.linear_model import LogisticRegression\n",
    "from sklearn.linear_model import LinearRegression\n",
    "from sklearn.svm import SVC\n",
    "from xgboost.sklearn import XGBClassifier\n",
    "\n",
    "## For Over Sampling\n",
    "from imblearn.over_sampling import SMOTE\n",
    "from imblearn.over_sampling import RandomOverSampler\n",
    "\n",
    "## For Model Performance ##\n",
    "from sklearn.metrics import accuracy_score, confusion_matrix, precision_score, recall_score, f1_score"
   ]
  },
  {
   "cell_type": "code",
   "execution_count": 55,
   "outputs": [],
   "source": [
    "## Model Performance\n",
    "def evaluation(gt, pred):\n",
    "    acc = accuracy_score(gt, pred)\n",
    "    precision = precision_score(gt, pred)\n",
    "    recall = recall_score(gt, pred)\n",
    "    f1 = f1_score(gt, pred)\n",
    "    matrix = confusion_matrix(gt, pred)\n",
    "    \n",
    "    return acc, precision, recall, f1, matrix"
   ],
   "metadata": {
    "collapsed": false,
    "pycharm": {
     "name": "#%%\n",
     "is_executing": false
    }
   }
  },
  {
   "cell_type": "code",
   "execution_count": 56,
   "metadata": {
    "pycharm": {
     "is_executing": false
    }
   },
   "outputs": [],
   "source": [
    "raw_data = pd.read_csv(\"./EmployeeAttrition.csv\", index_col=0)\n",
    "#raw_data = pd.read_csv(\"./fold/fold_0_train.csv\")"
   ]
  },
  {
   "cell_type": "code",
   "execution_count": 57,
   "metadata": {
    "pycharm": {
     "is_executing": false
    }
   },
   "outputs": [
    {
     "name": "stdout",
     "text": [
      "BusinessTravel ['Travel_Rarely' 'Travel_Frequently' 'Non-Travel']\n========================================================================\nDepartment ['Sales' 'Research & Development' 'Human Resources']\n========================================================================\nEducationField ['Life Sciences' 'Other' 'Medical' 'Marketing' 'Technical Degree'\n 'Human Resources']\n========================================================================\nGender ['Female' 'Male']\n========================================================================\nJobRole ['Sales Executive' 'Research Scientist' 'Laboratory Technician'\n 'Manufacturing Director' 'Healthcare Representative' 'Manager'\n 'Sales Representative' 'Research Director' 'Human Resources']\n========================================================================\nMaritalStatus ['Single' 'Married' 'Divorced']\n========================================================================\n"
     ],
     "output_type": "stream"
    }
   ],
   "source": [
    "categorical_col = []\n",
    "numeric_col = []\n",
    "for col in raw_data.columns:\n",
    "    if raw_data[col].dtype == object and col != \"Attrition\":\n",
    "        categorical_col.append(col)\n",
    "        print(col, raw_data[col].unique())\n",
    "        print(\"========================================================================\")\n",
    "    elif raw_data[col].dtype == int and col != \"Attrition\":\n",
    "        numeric_col.append(col)"
   ]
  },
  {
   "cell_type": "code",
   "execution_count": 58,
   "metadata": {
    "pycharm": {
     "is_executing": false
    }
   },
   "outputs": [],
   "source": [
    "## Encode Label\n",
    "raw_data[\"Attrition\"] = raw_data[\"Attrition\"].astype(\"category\").cat.codes"
   ]
  },
  {
   "cell_type": "code",
   "execution_count": 59,
   "metadata": {
    "pycharm": {
     "is_executing": false
    }
   },
   "outputs": [],
   "source": [
    "## Data Encoding (one-hot encoding)\n",
    "one_hot_encoding_df = pd.get_dummies(raw_data, columns=categorical_col)"
   ]
  },
  {
   "cell_type": "code",
   "execution_count": 60,
   "metadata": {
    "pycharm": {
     "is_executing": false
    }
   },
   "outputs": [
    {
     "data": {
      "text/plain": "{'Age',\n 'Attrition',\n 'BusinessTravel_Non-Travel',\n 'BusinessTravel_Travel_Frequently',\n 'BusinessTravel_Travel_Rarely',\n 'Department_Human Resources',\n 'Department_Research & Development',\n 'Department_Sales',\n 'DistanceFromHome',\n 'Education',\n 'EducationField_Human Resources',\n 'EducationField_Life Sciences',\n 'EducationField_Marketing',\n 'EducationField_Medical',\n 'EducationField_Other',\n 'EducationField_Technical Degree',\n 'EmployeeNumber',\n 'EnvironmentSatisfaction',\n 'Gender_Female',\n 'Gender_Male',\n 'JobInvolvement',\n 'JobLevel',\n 'JobRole_Healthcare Representative',\n 'JobRole_Human Resources',\n 'JobRole_Laboratory Technician',\n 'JobRole_Manager',\n 'JobRole_Manufacturing Director',\n 'JobRole_Research Director',\n 'JobRole_Research Scientist',\n 'JobRole_Sales Executive',\n 'JobRole_Sales Representative',\n 'JobSatisfaction',\n 'MaritalStatus_Divorced',\n 'MaritalStatus_Married',\n 'MaritalStatus_Single',\n 'MonthlyIncome',\n 'NumCompaniesWorked',\n 'PerformanceRating',\n 'RelationshipSatisfaction',\n 'StockOptionLevel',\n 'TotalWorkingYears',\n 'TrainingTimesLastYear',\n 'WorkLifeBalance',\n 'YearsAtCompany',\n 'YearsInCurrentRole',\n 'YearsSinceLastPromotion',\n 'YearsWithCurrManager'}"
     },
     "metadata": {},
     "output_type": "execute_result",
     "execution_count": 60
    }
   ],
   "source": [
    "set(one_hot_encoding_df.columns) - set(numeric_col)"
   ]
  },
  {
   "cell_type": "code",
   "execution_count": 49,
   "metadata": {
    "pycharm": {
     "is_executing": false
    }
   },
   "outputs": [],
   "source": [
    "#one_hot_encoding_df = one_hot_encoding_df.drop(['DistanceFromHome','Education','EmployeeNumber','JobInvolvement','PerformanceRating','RelationshipSatisfaction','TrainingTimesLastYear','WorkLifeBalance','YearsSinceLastPromotion','BusinessTravel_Non-Travel','BusinessTravel_Travel_Frequently','BusinessTravel_Travel_Rarely','Department_Human Resources','Department_Research & Development','Department_Sales','EducationField_Human Resources','EducationField_Life Sciences','EducationField_Marketing','EducationField_Medical','EducationField_Other','EducationField_Technical Degree','Gender_Female','Gender_Male','JobRole_Healthcare Representative','JobRole_Human Resources','JobRole_Laboratory Technician','JobRole_Manager','JobRole_Manufacturing Director','JobRole_Research Director','JobRole_Research Scientist','JobRole_Sales Executive','JobRole_Sales Representative','MaritalStatus_Divorced','MaritalStatus_Married','MaritalStatus_Single'],axis=1)\n",
    "#one_df.info()"
   ]
  },
  {
   "cell_type": "code",
   "execution_count": 61,
   "metadata": {
    "pycharm": {
     "is_executing": false
    }
   },
   "outputs": [],
   "source": [
    "# MinMaxScaler\n",
    "\n",
    "minmax = MinMaxScaler()\n",
    "data_minmax = minmax.fit_transform(one_hot_encoding_df)"
   ]
  },
  {
   "cell_type": "code",
   "execution_count": 62,
   "metadata": {
    "pycharm": {
     "is_executing": false
    }
   },
   "outputs": [
    {
     "data": {
      "text/plain": "           Age  Attrition  DistanceFromHome  Education  EmployeeNumber  \\\n0     0.547619        1.0          0.000000       0.25        0.000000   \n1     0.738095        0.0          0.250000       0.00        0.000484   \n2     0.452381        1.0          0.035714       0.25        0.001451   \n3     0.357143        0.0          0.071429       0.75        0.001935   \n4     0.214286        0.0          0.035714       0.00        0.002903   \n...        ...        ...               ...        ...             ...   \n1465  0.428571        0.0          0.785714       0.25        0.996613   \n1466  0.500000        0.0          0.178571       0.00        0.997097   \n1467  0.214286        0.0          0.107143       0.50        0.998065   \n1468  0.738095        0.0          0.035714       0.50        0.998549   \n1469  0.380952        0.0          0.250000       0.50        1.000000   \n\n      EnvironmentSatisfaction  JobInvolvement  JobLevel  JobSatisfaction  \\\n0                    0.333333        0.666667      0.25         1.000000   \n1                    0.666667        0.333333      0.25         0.333333   \n2                    1.000000        0.333333      0.00         0.666667   \n3                    1.000000        0.666667      0.00         0.666667   \n4                    0.000000        0.666667      0.00         0.333333   \n...                       ...             ...       ...              ...   \n1465                 0.666667        1.000000      0.25         1.000000   \n1466                 1.000000        0.333333      0.50         0.000000   \n1467                 0.333333        1.000000      0.25         0.333333   \n1468                 1.000000        0.333333      0.25         0.333333   \n1469                 0.333333        1.000000      0.25         0.666667   \n\n      MonthlyIncome  ...  JobRole_Laboratory Technician  JobRole_Manager  \\\n0          0.262454  ...                            0.0              0.0   \n1          0.217009  ...                            0.0              0.0   \n2          0.056925  ...                            1.0              0.0   \n3          0.100053  ...                            0.0              0.0   \n4          0.129489  ...                            1.0              0.0   \n...             ...  ...                            ...              ...   \n1465       0.082254  ...                            1.0              0.0   \n1466       0.472986  ...                            0.0              0.0   \n1467       0.270300  ...                            0.0              0.0   \n1468       0.230700  ...                            0.0              0.0   \n1469       0.178778  ...                            1.0              0.0   \n\n      JobRole_Manufacturing Director  JobRole_Research Director  \\\n0                                0.0                        0.0   \n1                                0.0                        0.0   \n2                                0.0                        0.0   \n3                                0.0                        0.0   \n4                                0.0                        0.0   \n...                              ...                        ...   \n1465                             0.0                        0.0   \n1466                             0.0                        0.0   \n1467                             1.0                        0.0   \n1468                             0.0                        0.0   \n1469                             0.0                        0.0   \n\n      JobRole_Research Scientist  JobRole_Sales Executive  \\\n0                            0.0                      1.0   \n1                            1.0                      0.0   \n2                            0.0                      0.0   \n3                            1.0                      0.0   \n4                            0.0                      0.0   \n...                          ...                      ...   \n1465                         0.0                      0.0   \n1466                         0.0                      0.0   \n1467                         0.0                      0.0   \n1468                         0.0                      1.0   \n1469                         0.0                      0.0   \n\n      JobRole_Sales Representative  MaritalStatus_Divorced  \\\n0                              0.0                     0.0   \n1                              0.0                     0.0   \n2                              0.0                     0.0   \n3                              0.0                     0.0   \n4                              0.0                     0.0   \n...                            ...                     ...   \n1465                           0.0                     0.0   \n1466                           0.0                     0.0   \n1467                           0.0                     0.0   \n1468                           0.0                     0.0   \n1469                           0.0                     0.0   \n\n      MaritalStatus_Married  MaritalStatus_Single  \n0                       0.0                   1.0  \n1                       1.0                   0.0  \n2                       0.0                   1.0  \n3                       1.0                   0.0  \n4                       1.0                   0.0  \n...                     ...                   ...  \n1465                    1.0                   0.0  \n1466                    1.0                   0.0  \n1467                    1.0                   0.0  \n1468                    1.0                   0.0  \n1469                    1.0                   0.0  \n\n[1470 rows x 47 columns]",
      "text/html": "<div>\n<style scoped>\n    .dataframe tbody tr th:only-of-type {\n        vertical-align: middle;\n    }\n\n    .dataframe tbody tr th {\n        vertical-align: top;\n    }\n\n    .dataframe thead th {\n        text-align: right;\n    }\n</style>\n<table border=\"1\" class=\"dataframe\">\n  <thead>\n    <tr style=\"text-align: right;\">\n      <th></th>\n      <th>Age</th>\n      <th>Attrition</th>\n      <th>DistanceFromHome</th>\n      <th>Education</th>\n      <th>EmployeeNumber</th>\n      <th>EnvironmentSatisfaction</th>\n      <th>JobInvolvement</th>\n      <th>JobLevel</th>\n      <th>JobSatisfaction</th>\n      <th>MonthlyIncome</th>\n      <th>...</th>\n      <th>JobRole_Laboratory Technician</th>\n      <th>JobRole_Manager</th>\n      <th>JobRole_Manufacturing Director</th>\n      <th>JobRole_Research Director</th>\n      <th>JobRole_Research Scientist</th>\n      <th>JobRole_Sales Executive</th>\n      <th>JobRole_Sales Representative</th>\n      <th>MaritalStatus_Divorced</th>\n      <th>MaritalStatus_Married</th>\n      <th>MaritalStatus_Single</th>\n    </tr>\n  </thead>\n  <tbody>\n    <tr>\n      <th>0</th>\n      <td>0.547619</td>\n      <td>1.0</td>\n      <td>0.000000</td>\n      <td>0.25</td>\n      <td>0.000000</td>\n      <td>0.333333</td>\n      <td>0.666667</td>\n      <td>0.25</td>\n      <td>1.000000</td>\n      <td>0.262454</td>\n      <td>...</td>\n      <td>0.0</td>\n      <td>0.0</td>\n      <td>0.0</td>\n      <td>0.0</td>\n      <td>0.0</td>\n      <td>1.0</td>\n      <td>0.0</td>\n      <td>0.0</td>\n      <td>0.0</td>\n      <td>1.0</td>\n    </tr>\n    <tr>\n      <th>1</th>\n      <td>0.738095</td>\n      <td>0.0</td>\n      <td>0.250000</td>\n      <td>0.00</td>\n      <td>0.000484</td>\n      <td>0.666667</td>\n      <td>0.333333</td>\n      <td>0.25</td>\n      <td>0.333333</td>\n      <td>0.217009</td>\n      <td>...</td>\n      <td>0.0</td>\n      <td>0.0</td>\n      <td>0.0</td>\n      <td>0.0</td>\n      <td>1.0</td>\n      <td>0.0</td>\n      <td>0.0</td>\n      <td>0.0</td>\n      <td>1.0</td>\n      <td>0.0</td>\n    </tr>\n    <tr>\n      <th>2</th>\n      <td>0.452381</td>\n      <td>1.0</td>\n      <td>0.035714</td>\n      <td>0.25</td>\n      <td>0.001451</td>\n      <td>1.000000</td>\n      <td>0.333333</td>\n      <td>0.00</td>\n      <td>0.666667</td>\n      <td>0.056925</td>\n      <td>...</td>\n      <td>1.0</td>\n      <td>0.0</td>\n      <td>0.0</td>\n      <td>0.0</td>\n      <td>0.0</td>\n      <td>0.0</td>\n      <td>0.0</td>\n      <td>0.0</td>\n      <td>0.0</td>\n      <td>1.0</td>\n    </tr>\n    <tr>\n      <th>3</th>\n      <td>0.357143</td>\n      <td>0.0</td>\n      <td>0.071429</td>\n      <td>0.75</td>\n      <td>0.001935</td>\n      <td>1.000000</td>\n      <td>0.666667</td>\n      <td>0.00</td>\n      <td>0.666667</td>\n      <td>0.100053</td>\n      <td>...</td>\n      <td>0.0</td>\n      <td>0.0</td>\n      <td>0.0</td>\n      <td>0.0</td>\n      <td>1.0</td>\n      <td>0.0</td>\n      <td>0.0</td>\n      <td>0.0</td>\n      <td>1.0</td>\n      <td>0.0</td>\n    </tr>\n    <tr>\n      <th>4</th>\n      <td>0.214286</td>\n      <td>0.0</td>\n      <td>0.035714</td>\n      <td>0.00</td>\n      <td>0.002903</td>\n      <td>0.000000</td>\n      <td>0.666667</td>\n      <td>0.00</td>\n      <td>0.333333</td>\n      <td>0.129489</td>\n      <td>...</td>\n      <td>1.0</td>\n      <td>0.0</td>\n      <td>0.0</td>\n      <td>0.0</td>\n      <td>0.0</td>\n      <td>0.0</td>\n      <td>0.0</td>\n      <td>0.0</td>\n      <td>1.0</td>\n      <td>0.0</td>\n    </tr>\n    <tr>\n      <th>...</th>\n      <td>...</td>\n      <td>...</td>\n      <td>...</td>\n      <td>...</td>\n      <td>...</td>\n      <td>...</td>\n      <td>...</td>\n      <td>...</td>\n      <td>...</td>\n      <td>...</td>\n      <td>...</td>\n      <td>...</td>\n      <td>...</td>\n      <td>...</td>\n      <td>...</td>\n      <td>...</td>\n      <td>...</td>\n      <td>...</td>\n      <td>...</td>\n      <td>...</td>\n      <td>...</td>\n    </tr>\n    <tr>\n      <th>1465</th>\n      <td>0.428571</td>\n      <td>0.0</td>\n      <td>0.785714</td>\n      <td>0.25</td>\n      <td>0.996613</td>\n      <td>0.666667</td>\n      <td>1.000000</td>\n      <td>0.25</td>\n      <td>1.000000</td>\n      <td>0.082254</td>\n      <td>...</td>\n      <td>1.0</td>\n      <td>0.0</td>\n      <td>0.0</td>\n      <td>0.0</td>\n      <td>0.0</td>\n      <td>0.0</td>\n      <td>0.0</td>\n      <td>0.0</td>\n      <td>1.0</td>\n      <td>0.0</td>\n    </tr>\n    <tr>\n      <th>1466</th>\n      <td>0.500000</td>\n      <td>0.0</td>\n      <td>0.178571</td>\n      <td>0.00</td>\n      <td>0.997097</td>\n      <td>1.000000</td>\n      <td>0.333333</td>\n      <td>0.50</td>\n      <td>0.000000</td>\n      <td>0.472986</td>\n      <td>...</td>\n      <td>0.0</td>\n      <td>0.0</td>\n      <td>0.0</td>\n      <td>0.0</td>\n      <td>0.0</td>\n      <td>0.0</td>\n      <td>0.0</td>\n      <td>0.0</td>\n      <td>1.0</td>\n      <td>0.0</td>\n    </tr>\n    <tr>\n      <th>1467</th>\n      <td>0.214286</td>\n      <td>0.0</td>\n      <td>0.107143</td>\n      <td>0.50</td>\n      <td>0.998065</td>\n      <td>0.333333</td>\n      <td>1.000000</td>\n      <td>0.25</td>\n      <td>0.333333</td>\n      <td>0.270300</td>\n      <td>...</td>\n      <td>0.0</td>\n      <td>0.0</td>\n      <td>1.0</td>\n      <td>0.0</td>\n      <td>0.0</td>\n      <td>0.0</td>\n      <td>0.0</td>\n      <td>0.0</td>\n      <td>1.0</td>\n      <td>0.0</td>\n    </tr>\n    <tr>\n      <th>1468</th>\n      <td>0.738095</td>\n      <td>0.0</td>\n      <td>0.035714</td>\n      <td>0.50</td>\n      <td>0.998549</td>\n      <td>1.000000</td>\n      <td>0.333333</td>\n      <td>0.25</td>\n      <td>0.333333</td>\n      <td>0.230700</td>\n      <td>...</td>\n      <td>0.0</td>\n      <td>0.0</td>\n      <td>0.0</td>\n      <td>0.0</td>\n      <td>0.0</td>\n      <td>1.0</td>\n      <td>0.0</td>\n      <td>0.0</td>\n      <td>1.0</td>\n      <td>0.0</td>\n    </tr>\n    <tr>\n      <th>1469</th>\n      <td>0.380952</td>\n      <td>0.0</td>\n      <td>0.250000</td>\n      <td>0.50</td>\n      <td>1.000000</td>\n      <td>0.333333</td>\n      <td>1.000000</td>\n      <td>0.25</td>\n      <td>0.666667</td>\n      <td>0.178778</td>\n      <td>...</td>\n      <td>1.0</td>\n      <td>0.0</td>\n      <td>0.0</td>\n      <td>0.0</td>\n      <td>0.0</td>\n      <td>0.0</td>\n      <td>0.0</td>\n      <td>0.0</td>\n      <td>1.0</td>\n      <td>0.0</td>\n    </tr>\n  </tbody>\n</table>\n<p>1470 rows × 47 columns</p>\n</div>"
     },
     "metadata": {},
     "output_type": "execute_result",
     "execution_count": 62
    }
   ],
   "source": [
    "one_hot_encoding_df = pd.DataFrame(data_minmax)\n",
    "#one_hot_encoding_df.columns = ['Attrition','Education','EnvironmentSatisfaction','JobInvolvement','JobLevel','JobSatisfaction','MonthlyIncome','RelationshipSatisfaction','StockOptionLevel','TotalWorkingYears','TrainingTimesLastYear','WorkLifeBalance','YearsAtCompany', 'YearsInCurrentRole','YearsSinceLastPromotion','YearsWithCurrManager','Department_Human Resources','Department_Research & Development','Department_Sales','EducationField_Human Resources','EducationField_Life Sciences','EducationField_Marketing','EducationField_Medical','EducationField_Other','EducationField_Technical Degree','JobRole_Healthcare Representative','JobRole_Human Resources','JobRole_Laboratory Technician','JobRole_Manager','JobRole_Manufacturing Director','JobRole_Research Director','JobRole_Research Scientist','JobRole_Sales Executive','JobRole_Sales Representative']\n",
    "one_hot_encoding_df.columns = ['Age','Attrition','DistanceFromHome','Education','EmployeeNumber','EnvironmentSatisfaction','JobInvolvement','JobLevel','JobSatisfaction','MonthlyIncome','NumCompaniesWorked','PerformanceRating','RelationshipSatisfaction','StockOptionLevel','TotalWorkingYears','TrainingTimesLastYear','WorkLifeBalance','YearsAtCompany','YearsInCurrentRole','YearsSinceLastPromotion','YearsWithCurrManager','BusinessTravel_Non-Travel','BusinessTravel_Travel_Frequently','BusinessTravel_Travel_Rarely','Department_Human Resources','Department_Research & Development','Department_Sales','EducationField_Human Resources','EducationField_Life Sciences','EducationField_Marketing','EducationField_Medical','EducationField_Other','EducationField_Technical Degree','Gender_Female','Gender_Male','JobRole_Healthcare Representative','JobRole_Human Resources','JobRole_Laboratory Technician','JobRole_Manager','JobRole_Manufacturing Director','JobRole_Research Director','JobRole_Research Scientist','JobRole_Sales Executive','JobRole_Sales Representative','MaritalStatus_Divorced','MaritalStatus_Married','MaritalStatus_Single']\n",
    "#one_hot_encoding_df = one_hot_encoding_df.drop(['serial'],axis=1)\n",
    "#one_hot_encoding_df.info()\n",
    "\n",
    "#one_hot_encoding_df.columns = ['Age','Attrition','EnvironmentSatisfaction','JobLevel','JobSatisfaction','MonthlyIncome','NumCompaniesWorked','StockOptionLevel','TotalWorkingYears','YearsAtCompany','YearsInCurrentRole','YearsWithCurrManager']   \n",
    "one_hot_encoding_df\n"
   ]
  },
  {
   "cell_type": "code",
   "execution_count": 37,
   "metadata": {
    "pycharm": {
     "is_executing": false
    }
   },
   "outputs": [
    {
     "data": {
      "text/plain": "[('MonthlyIncome', 0.07986930503472876),\n ('Age', 0.07023974439272818),\n ('EmployeeNumber', 0.06139997489183877),\n ('TotalWorkingYears', 0.05758442111230984),\n ('DistanceFromHome', 0.056886962612780936),\n ('YearsAtCompany', 0.04769892346849075),\n ('NumCompaniesWorked', 0.039689572832535096),\n ('YearsWithCurrManager', 0.03686524283575744),\n ('EnvironmentSatisfaction', 0.034365518357885025),\n ('JobSatisfaction', 0.033839804363389195)]"
     },
     "metadata": {},
     "output_type": "execute_result",
     "execution_count": 37
    }
   ],
   "source": [
    "importance_dict = {}\n",
    "for col, importance in zip(train_X.columns, np.mean(np.array(avg_feature_importance), axis=0)):\n",
    "    importance_dict[col] = importance\n",
    "\n",
    "sorted(importance_dict.items(), key=lambda x: -x[1])[:10]"
   ]
  },
  {
   "cell_type": "code",
   "execution_count": 38,
   "metadata": {
    "pycharm": {
     "is_executing": false
    }
   },
   "outputs": [
    {
     "name": "stdout",
     "text": [
      "Training Data: 1176, Testing Data: 294\n",
      "Fold: 1, Accuracy: 0.827000, Precision: 0.333000, Recall: 0.085000, F1: 0.136000\nTraining Data: 1176, Testing Data: 294\n",
      "Fold: 2, Accuracy: 0.861000, Precision: 0.562000, Recall: 0.209000, F1: 0.305000\nTraining Data: 1176, Testing Data: 294\n",
      "Fold: 3, Accuracy: 0.810000, Precision: 0.588000, Recall: 0.169000, F1: 0.263000\nTraining Data: 1176, Testing Data: 294\n",
      "Fold: 4, Accuracy: 0.840000, Precision: 0.444000, Recall: 0.178000, F1: 0.254000\nTraining Data: 1176, Testing Data: 294\n",
      "Fold: 5, Accuracy: 0.864000, Precision: 0.636000, Recall: 0.163000, F1: 0.259000\n=================================================================================\nAvg Accuracy: 0.840000, Avg Precision: 0.513000, Avg Recall: 0.161000, Avg F1: 0.243000\n"
     ],
     "output_type": "stream"
    }
   ],
   "source": [
    "## Data Splitting and Model Learning (Random Forest)\n",
    "avg_acc = 0\n",
    "avg_precision = 0\n",
    "avg_recall = 0\n",
    "avg_f1 = 0\n",
    "avg_confusion_matrix = []\n",
    "avg_feature_importance = []\n",
    "\n",
    "kf = KFold(n_splits=5)\n",
    "fold_count = 0\n",
    "for train_index, test_index in kf.split(one_hot_encoding_df):\n",
    "    print(\"Training Data: %d, Testing Data: %d\" % (len(train_index), len(test_index)))\n",
    "    train_X = one_hot_encoding_df.loc[train_index, one_hot_encoding_df.columns != 'Attrition']\n",
    "    train_y = one_hot_encoding_df.loc[train_index][\"Attrition\"]\n",
    "    test_X = one_hot_encoding_df.loc[test_index, one_hot_encoding_df.columns != 'Attrition']\n",
    "    test_y = one_hot_encoding_df.loc[test_index][\"Attrition\"]\n",
    "    \n",
    "    #sm = SMOTE(random_state=42)\n",
    "    #X_res, Y_res = sm.fit_resample(train_X, train_y)\n",
    "  \n",
    "    model = RandomForestClassifier(n_estimators=600)\n",
    "    model = model.fit(train_X, train_y)\n",
    "    #model = model.fit(X_res, Y_res)\n",
    "    test_predict = model.predict(test_X)\n",
    "       \n",
    "    avg_feature_importance.append(model.feature_importances_)\n",
    "    \n",
    "    acc, precision, recall, f1, matrix = evaluation(test_y, test_predict)\n",
    "    print(\"Fold: %d, Accuracy: %f, Precision: %f, Recall: %f, F1: %f\" % (fold_count + 1, round(acc, 3), round(precision, 3), round(recall, 3), round(f1, 3)))\n",
    "    avg_acc += acc\n",
    "    avg_precision += precision\n",
    "    avg_recall += recall\n",
    "    avg_f1 += f1\n",
    "    avg_confusion_matrix.append(matrix)\n",
    "    fold_count += 1\n",
    "\n",
    "print(\"=================================================================================\")\n",
    "print(\"Avg Accuracy: %f, Avg Precision: %f, Avg Recall: %f, Avg F1: %f\" % (round(avg_acc / kf.get_n_splits(), 3), \\\n",
    "                                                                           round(avg_precision / kf.get_n_splits(), 3), \\\n",
    "                                                                           round(avg_recall / kf.get_n_splits(), 3), \\\n",
    "                                                                           round(avg_f1 / kf.get_n_splits(), 3)))"
   ]
  },
  {
   "cell_type": "code",
   "execution_count": 64,
   "metadata": {
    "pycharm": {
     "is_executing": false
    }
   },
   "outputs": [
    {
     "name": "stdout",
     "text": [
      "Training Data: 1176, Testing Data: 294\n",
      "Fold: 1, Accuracy: 0.840000, Precision: 0.000000, Recall: 0.000000, F1: 0.000000\nTraining Data: 1176, Testing Data: 294\n",
      "Fold: 2, Accuracy: 0.854000, Precision: 0.000000, Recall: 0.000000, F1: 0.000000\nTraining Data: 1176, Testing Data: 294\nFold: 3, Accuracy: 0.813000, Precision: 0.667000, Recall: 0.136000, F1: 0.225000\nTraining Data: 1176, Testing Data: 294\n",
      "Fold: 4, Accuracy: 0.847000, Precision: 0.000000, Recall: 0.000000, F1: 0.000000\nTraining Data: 1176, Testing Data: 294\nFold: 5, Accuracy: 0.864000, Precision: 0.800000, Recall: 0.093000, F1: 0.167000\n=================================================================================\nAvg Accuracy: 0.844000, Avg Precision: 0.293000, Avg Recall: 0.046000, Avg F1: 0.078000\n"
     ],
     "output_type": "stream"
    },
    {
     "name": "stderr",
     "text": [
      "d:\\cloudstation\\python project\\hw\\venv\\lib\\site-packages\\sklearn\\metrics\\_classification.py:1221: UndefinedMetricWarning: Precision is ill-defined and being set to 0.0 due to no predicted samples. Use `zero_division` parameter to control this behavior.\n  _warn_prf(average, modifier, msg_start, len(result))\n",
      "d:\\cloudstation\\python project\\hw\\venv\\lib\\site-packages\\sklearn\\metrics\\_classification.py:1221: UndefinedMetricWarning: Precision is ill-defined and being set to 0.0 due to no predicted samples. Use `zero_division` parameter to control this behavior.\n  _warn_prf(average, modifier, msg_start, len(result))\n",
      "d:\\cloudstation\\python project\\hw\\venv\\lib\\site-packages\\sklearn\\metrics\\_classification.py:1221: UndefinedMetricWarning: Precision is ill-defined and being set to 0.0 due to no predicted samples. Use `zero_division` parameter to control this behavior.\n  _warn_prf(average, modifier, msg_start, len(result))\n"
     ],
     "output_type": "stream"
    }
   ],
   "source": [
    "## Data Splitting and Model Learning (SVM)\n",
    "avg_acc = 0\n",
    "avg_precision = 0\n",
    "avg_recall = 0\n",
    "avg_f1 = 0\n",
    "avg_confusion_matrix = []\n",
    "\n",
    "kf = KFold(n_splits=5)\n",
    "fold_count = 0\n",
    "for train_index, test_index in kf.split(one_hot_encoding_df):\n",
    "    print(\"Training Data: %d, Testing Data: %d\" % (len(train_index), len(test_index)))\n",
    "    train_X = one_hot_encoding_df.loc[train_index, one_hot_encoding_df.columns != 'Attrition']\n",
    "    train_y = one_hot_encoding_df.loc[train_index][\"Attrition\"]\n",
    "    test_X = one_hot_encoding_df.loc[test_index, one_hot_encoding_df.columns != 'Attrition']\n",
    "    test_y = one_hot_encoding_df.loc[test_index][\"Attrition\"]\n",
    "    \n",
    "    sm = SMOTE(random_state=24)\n",
    "    X_res, Y_res = sm.fit_resample(train_X, train_y)\n",
    "\n",
    "    model = SVC(C=2,kernel='linear',gamma=10,decision_function_shape='ovo')\n",
    "    model = model.fit(train_X, train_y)\n",
    "    #model = model.fit(X_res, Y_res)\n",
    "    test_predict = model.predict(test_X)\n",
    "       \n",
    "    acc, precision, recall, f1, matrix = evaluation(test_y, test_predict)\n",
    "    print(\"Fold: %d, Accuracy: %f, Precision: %f, Recall: %f, F1: %f\" % (fold_count + 1, round(acc, 3), round(precision, 3), round(recall, 3), round(f1, 3)))\n",
    "    avg_acc += acc\n",
    "    avg_precision += precision\n",
    "    avg_recall += recall\n",
    "    avg_f1 += f1\n",
    "    avg_confusion_matrix.append(matrix)\n",
    "    fold_count += 1\n",
    "\n",
    "print(\"=================================================================================\")\n",
    "print(\"Avg Accuracy: %f, Avg Precision: %f, Avg Recall: %f, Avg F1: %f\" % (round(avg_acc / kf.get_n_splits(), 3), \\\n",
    "                                                                           round(avg_precision / kf.get_n_splits(), 3), \\\n",
    "                                                                           round(avg_recall / kf.get_n_splits(), 3), \\\n",
    "                                                                           round(avg_f1 / kf.get_n_splits(), 3)))\n"
   ]
  },
  {
   "cell_type": "code",
   "execution_count": 65,
   "metadata": {
    "pycharm": {
     "is_executing": false,
     "name": "#%%\n"
    }
   },
   "outputs": [
    {
     "name": "stdout",
     "text": [
      "Training Data: 1176, Testing Data: 294\n",
      "Fold: 1, Accuracy: 0.844000, Precision: 0.519000, Recall: 0.298000, F1: 0.378000\nTraining Data: 1176, Testing Data: 294\n",
      "Fold: 2, Accuracy: 0.874000, Precision: 0.594000, Recall: 0.442000, F1: 0.507000\nTraining Data: 1176, Testing Data: 294\n",
      "Fold: 3, Accuracy: 0.799000, Precision: 0.500000, Recall: 0.305000, F1: 0.379000\nTraining Data: 1176, Testing Data: 294\n",
      "Fold: 4, Accuracy: 0.861000, Precision: 0.583000, Recall: 0.311000, F1: 0.406000\nTraining Data: 1176, Testing Data: 294\n",
      "Fold: 5, Accuracy: 0.867000, Precision: 0.625000, Recall: 0.233000, F1: 0.339000\n=================================================================================\nAvg Accuracy: 0.849000, Avg Precision: 0.564000, Avg Recall: 0.318000, Avg F1: 0.402000\n"
     ],
     "output_type": "stream"
    }
   ],
   "source": [
    "## Data Splitting and Model Learning (OVERSAMPLING-XGBOOST)\n",
    "avg_acc = 0\n",
    "avg_precision = 0\n",
    "avg_recall = 0\n",
    "avg_f1 = 0\n",
    "avg_confusion_matrix = []\n",
    "\n",
    "kf = KFold(n_splits=5)\n",
    "fold_count = 0\n",
    "for train_index, test_index in kf.split(one_hot_encoding_df):\n",
    "    print(\"Training Data: %d, Testing Data: %d\" % (len(train_index), len(test_index)))\n",
    "    train_X = one_hot_encoding_df.loc[train_index, one_hot_encoding_df.columns != 'Attrition']\n",
    "    train_y = one_hot_encoding_df.loc[train_index][\"Attrition\"]\n",
    "    test_X = one_hot_encoding_df.loc[test_index, one_hot_encoding_df.columns != 'Attrition']\n",
    "    test_y = one_hot_encoding_df.loc[test_index][\"Attrition\"]\n",
    "    \n",
    "    #ros = RandomOverSampler(random_state=24)\n",
    "    #X_res, Y_res = ros.fit_resample(train_X, train_y)\n",
    "    sm = SMOTE(random_state=20)\n",
    "    X_res, Y_res = sm.fit_resample(train_X, train_y)\n",
    "   \n",
    "    xgb_model = XGBClassifier()\n",
    "    #xgb_model.fit(train_X, train_y)\n",
    "    xgb_model.fit(X_res, Y_res)\n",
    "    \n",
    "    y_pred = xgb_model.predict(test_X)\n",
    "    accuracy_score(test_y,y_pred)\n",
    "    test_predict = xgb_model.predict(test_X)\n",
    "    #conf_matrix(test_y,y_pred)   \n",
    "    acc, precision, recall, f1, matrix = evaluation(test_y, test_predict)\n",
    "    print(\"Fold: %d, Accuracy: %f, Precision: %f, Recall: %f, F1: %f\" % (fold_count + 1, round(acc, 3), round(precision, 3), round(recall, 3), round(f1, 3)))\n",
    "    avg_acc += acc\n",
    "    avg_precision += precision\n",
    "    avg_recall += recall\n",
    "    avg_f1 += f1\n",
    "    avg_confusion_matrix.append(matrix)\n",
    "    fold_count += 1\n",
    "\n",
    "print(\"=================================================================================\")\n",
    "print(\"Avg Accuracy: %f, Avg Precision: %f, Avg Recall: %f, Avg F1: %f\" % (round(avg_acc / kf.get_n_splits(), 3), \\\n",
    "                                                                           round(avg_precision / kf.get_n_splits(), 3), \\\n",
    "                                                                           round(avg_recall / kf.get_n_splits(), 3), \\\n",
    "                                                                           round(avg_f1 / kf.get_n_splits(), 3)))"
   ]
  }
 ],
 "metadata": {
  "kernelspec": {
   "display_name": "Python 3",
   "language": "python",
   "name": "python3"
  },
  "language_info": {
   "codemirror_mode": {
    "name": "ipython",
    "version": 3
   },
   "file_extension": ".py",
   "mimetype": "text/x-python",
   "name": "python",
   "nbconvert_exporter": "python",
   "pygments_lexer": "ipython3",
   "version": "3.7.3"
  },
  "pycharm": {
   "stem_cell": {
    "cell_type": "raw",
    "source": [],
    "metadata": {
     "collapsed": false
    }
   }
  }
 },
 "nbformat": 4,
 "nbformat_minor": 4
}